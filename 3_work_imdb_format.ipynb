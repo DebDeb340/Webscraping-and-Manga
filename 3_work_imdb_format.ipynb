{
 "cells": [
  {
   "cell_type": "markdown",
   "metadata": {},
   "source": [
    "Modif fichier extrait IMDB"
   ]
  },
  {
   "cell_type": "code",
   "execution_count": 1,
   "metadata": {},
   "outputs": [],
   "source": [
    "import pandas as pd"
   ]
  },
  {
   "cell_type": "code",
   "execution_count": 2,
   "metadata": {},
   "outputs": [],
   "source": [
    "# import csv file\n",
    "df_imdb = pd.read_csv(\"imdb_manga_ratings_eng.csv\", index_col=False)"
   ]
  },
  {
   "cell_type": "code",
   "execution_count": 3,
   "metadata": {},
   "outputs": [],
   "source": [
    "# drop unwanted column unnamed\n",
    "df_imdb = df_imdb.drop(columns=[\"Unnamed: 0\",\"Year\"])"
   ]
  },
  {
   "cell_type": "code",
   "execution_count": 4,
   "metadata": {},
   "outputs": [],
   "source": [
    "# fill na values where date_fin is missing\n",
    "df_imdb.date_fin = df_imdb.date_fin.fillna(0)"
   ]
  },
  {
   "cell_type": "code",
   "execution_count": 5,
   "metadata": {},
   "outputs": [],
   "source": [
    "#ensure type is integer for date\n",
    "df_imdb.date_fin = df_imdb.date_fin.astype(int)"
   ]
  },
  {
   "cell_type": "code",
   "execution_count": 6,
   "metadata": {},
   "outputs": [],
   "source": [
    "#split 1 column into 3 to separate the Genre\n",
    "df_imdb[['Genre_1', 'Genre_2', 'Genre_3']] = df_imdb['Genre'].str.split(',',expand=True)\n"
   ]
  },
  {
   "cell_type": "code",
   "execution_count": 7,
   "metadata": {},
   "outputs": [
    {
     "data": {
      "text/plain": [
       "0     Animation, Action, Adventure\n",
       "1     Animation, Action, Adventure\n",
       "2     Animation, Action, Adventure\n",
       "3     Animation, Action, Adventure\n",
       "4          Animation, Crime, Drama\n",
       "                  ...             \n",
       "94    Animation, Action, Adventure\n",
       "95     Animation, Adventure, Drama\n",
       "96        Animation, Action, Drama\n",
       "97      Animation, Action, Fantasy\n",
       "98    Animation, Action, Adventure\n",
       "Name: Genre, Length: 99, dtype: object"
      ]
     },
     "execution_count": 7,
     "metadata": {},
     "output_type": "execute_result"
    }
   ],
   "source": [
    "# drop old column\n",
    "df_imdb.pop('Genre')"
   ]
  },
  {
   "cell_type": "code",
   "execution_count": 8,
   "metadata": {},
   "outputs": [],
   "source": [
    "# drop row where rating was missing\n",
    "df_imdb = df_imdb.drop(16)"
   ]
  },
  {
   "cell_type": "code",
   "execution_count": 9,
   "metadata": {},
   "outputs": [],
   "source": [
    "# fill missing values in 2 columns\n",
    "df_imdb[['Genre_2','Genre_3']] = df_imdb[['Genre_2','Genre_3']].fillna('None')"
   ]
  },
  {
   "cell_type": "code",
   "execution_count": 10,
   "metadata": {},
   "outputs": [],
   "source": [
    "#export into csv file\n",
    "df_imdb.to_csv('ratings_imdb.csv', index=False)"
   ]
  }
 ],
 "metadata": {
  "kernelspec": {
   "display_name": "web_scraping",
   "language": "python",
   "name": "python3"
  },
  "language_info": {
   "codemirror_mode": {
    "name": "ipython",
    "version": 3
   },
   "file_extension": ".py",
   "mimetype": "text/x-python",
   "name": "python",
   "nbconvert_exporter": "python",
   "pygments_lexer": "ipython3",
   "version": "3.12.1"
  }
 },
 "nbformat": 4,
 "nbformat_minor": 2
}
